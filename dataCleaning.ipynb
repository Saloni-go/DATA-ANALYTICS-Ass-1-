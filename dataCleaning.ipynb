{
 "cells": [
  {
   "cell_type": "code",
   "execution_count": 161,
   "id": "758ff9f8",
   "metadata": {},
   "outputs": [],
   "source": [
    "import pandas as pd\n",
    "import numpy as np\n",
    "from spicy import stats"
   ]
  },
  {
   "cell_type": "markdown",
   "id": "95322414",
   "metadata": {},
   "source": [
    "### LOAD DATASET"
   ]
  },
  {
   "cell_type": "code",
   "execution_count": 162,
   "id": "44866cad",
   "metadata": {},
   "outputs": [],
   "source": [
    "def load_dataset(path):\n",
    "    try:\n",
    "        df=pd.read_csv(path)\n",
    "        print(f\"Dataset loaded successfully with shape: {df.shape}\")\n",
    "        return df \n",
    "    except Exception as e:\n",
    "        print(f\"Error loading dataset: {e}\")\n",
    "        return"
   ]
  },
  {
   "cell_type": "markdown",
   "id": "33e74987",
   "metadata": {},
   "source": [
    "### INTERACTIVE DELETE\n"
   ]
  },
  {
   "cell_type": "code",
   "execution_count": null,
   "id": "835ae91f",
   "metadata": {},
   "outputs": [],
   "source": [
    "def interactive_delete(df, rows, message=\"\"):\n",
    "    if rows.empty:\n",
    "        print(f\"No rows found for {message}.\")\n",
    "        return df\n",
    "    \n",
    "    print(f\"Rows detected for {message}:\")\n",
    "    print(rows)\n",
    "\n",
    "    choice = input(f\"Do you want to delete these rows? (yes/no/range/indices): \").strip().lower()\n",
    "\n",
    "    if choice == \"yes\":\n",
    "        df = df.drop(rows.index).reset_index(drop=True)\n",
    "        print(f\"Deleted all rows for {message}. New shape: {df.shape}\")\n",
    "        print(\"\\n\")\n",
    "    elif choice == \"range\":\n",
    "        start = int(input(\"Enter start index (inclusive): \"))\n",
    "        end = int(input(\"Enter end index (inclusive): \"))\n",
    "        indices_to_delete = rows.index[(rows.index >= start) & (rows.index <= end)]\n",
    "        df = df.drop(indices_to_delete).reset_index(drop=True)\n",
    "        print(f\"Deleted rows from {start} to {end}. New shape: {df.shape}\")\n",
    "        print(\"\\n\")\n",
    "    elif choice == \"indices\":\n",
    "        idx_list = input(\"Enter indices to delete (comma separated): \")\n",
    "        indices = [int(x.strip()) for x in idx_list.split(\",\")]\n",
    "        df = df.drop(indices).reset_index(drop=True)\n",
    "        print(f\"Deleted rows {indices}. New shape: {df.shape}\")\n",
    "        print(\"\\n\")\n",
    "    else:\n",
    "        print(\"No rows deleted.\")\n",
    "\n",
    "    return df"
   ]
  },
  {
   "cell_type": "markdown",
   "id": "efbf5c12",
   "metadata": {},
   "source": [
    "### REMOVING MISSING VALUES"
   ]
  },
  {
   "cell_type": "code",
   "execution_count": 164,
   "id": "d4834298",
   "metadata": {},
   "outputs": [],
   "source": [
    "def check_missing_values(df, col_name):\n",
    "    if col_name not in df.columns:\n",
    "        print(\"f: column 'col_name}' not found.\")\n",
    "        return \n",
    "    print(\"Checking column: {col_name}\")\n",
    "    col=df[col_name]\n",
    "\n",
    "    #traverse row by row\n",
    "    invalid_indices=[]\n",
    "    for i,val in enumerate(col):\n",
    "        if pd.isna(val):\n",
    "            invalid_indices.append(i)\n",
    "        elif isinstance(val,str) and val.strip()==\"\": \n",
    "            invalid_indices.append(i) \n",
    "        elif isinstance(val,str) and val.lower() in [\"?\",\"na\",\"n/a\",\"none\"]:\n",
    "            invalid_indices.append(i)\n",
    "\n",
    "    if invalid_indices:\n",
    "        rows = df.loc[invalid_indices]\n",
    "        df = interactive_delete(df, rows, f\"missing/invalid values in '{col_name}'\")\n",
    "    else:\n",
    "        print(f\"No missing or invalid values found in column '{col_name}'.\")\n",
    "\n",
    "    print(\"Check complete.\")\n",
    "    return df\n"
   ]
  },
  {
   "cell_type": "markdown",
   "id": "2d6d4508",
   "metadata": {},
   "source": [
    "### CHECK FOR OUTLIERS\n",
    "If the data is unrealistic or very far away from avg and the rest of the values in the dataset. In that case, its necessary to once cross verify.\n",
    "\n",
    "1. IQR Method: If data is skewed on one side.\n",
    "eg. Income, Work hours, House prices, etc.\n",
    "\n",
    "2. Z-Score Method: If data is symmetric/Normal.\n",
    "eg. Height, Test Scores, etc."
   ]
  },
  {
   "cell_type": "markdown",
   "id": "6e59dd64",
   "metadata": {},
   "source": [
    "#### IQR (Interquartile Range) Method"
   ]
  },
  {
   "cell_type": "code",
   "execution_count": null,
   "id": "4de468e4",
   "metadata": {},
   "outputs": [],
   "source": [
    "def check_outliers_iqr(df,column):\n",
    "    if column not in df.columns:\n",
    "        print(f\"Column '{column}' not found.\")\n",
    "        return\n",
    "\n",
    "    Q1=df[column].quantile(0.25) #value below which 25% of the data lies\n",
    "    \n",
    "    Q3=df[column].quantile(0.75) #value above which 75% of the data lies\n",
    "    IQR=Q3-Q1  #Interquartile Range i.e. spread of the middle 50% of the data\n",
    "   \n",
    "    lower_bound=Q1-5*IQR  #any value smaller than lower bound is too far below the normal range\n",
    "    \n",
    "    upper_bound=Q3+5*IQR  #any value larger than upper bound is too far above the normal range\n",
    "    #1.5 is a factor commonly used as a standard rule of thumb (Tukey's method)\n",
    "\n",
    "    outliers=df[(df[column]<lower_bound) | (df[column]>upper_bound)]\n",
    "    if outliers.empty:\n",
    "        print(f\"No outliers found in column '{column}'.\")\n",
    "    else:\n",
    "        print(f\"Outliers found in column '{column}':\")\n",
    "        print(outliers)\n",
    "\n",
    "      # Now redirect to interactive_delete\n",
    "        df = interactive_delete(df, outliers, f\"outliers in '{column}'\")\n",
    "\n",
    "    return df\n"
   ]
  },
  {
   "cell_type": "markdown",
   "id": "bfda421c",
   "metadata": {},
   "source": [
    "#### Z-Score\n"
   ]
  },
  {
   "cell_type": "code",
   "execution_count": null,
   "id": "4e79026c",
   "metadata": {},
   "outputs": [],
   "source": [
    "\n",
    "def detect_outliers_zscore(df, column, threshold=3.5):\n",
    "    if column not in df.columns:\n",
    "        print(f\"Column '{column}' not found.\")\n",
    "        return df\n",
    "    \n",
    "   # Check if column is numeric\n",
    "    if not np.issubdtype(df[column].dtype, np.number):\n",
    "        print(f\"Column '{column}' is not numeric. Z-score can only be applied to numeric columns.\")\n",
    "        return df\n",
    "    \n",
    "    z_scores = np.abs(stats.zscore(df[column], nan_policy='omit'))  # z=(data point-mean)/standard deviation\n",
    "    outliers = df.loc[z_scores > threshold]  #So now z_scores is an array of how \"extreme\" each row’s value is compared to the column mean.\n",
    "    if not outliers.empty:  #Rule of thumb: values beyond 3 standard deviations are \"too extreme.\n",
    "        print(f\"Outliers found in column '{column}':\")\n",
    "        print(outliers)\n",
    "        df = interactive_delete(df, outliers, message=f\"Z-score outliers in '{column}'\")\n",
    "\n",
    "    else:\n",
    "        print(f\"No outliers found in column '{column}'.\")\n",
    "\n",
    "\n",
    "    return df"
   ]
  },
  {
   "cell_type": "markdown",
   "id": "bc8c0591",
   "metadata": {},
   "source": [
    "### ENSURING CORRECT DATA TYPES"
   ]
  },
  {
   "cell_type": "code",
   "execution_count": null,
   "id": "23628828",
   "metadata": {},
   "outputs": [],
   "source": [
    "def ensure_data_type(df,col_name):\n",
    "    if col_name not in df.columns:\n",
    "        print(f\"Column '{col_name}' not found.\")\n",
    "        return df\n",
    "\n",
    "    # Check data type\n",
    "    if not pd.api.types.is_numeric_dtype(df[col_name]):\n",
    "        current_dtype = df[col_name].dtype\n",
    "        print(f\"Column '{col_name}' is not numeric. Current dtype: {current_dtype}\")\n",
    "        \n",
    "        # Ask user\n",
    "        choice = input(\"Do you want to convert it to numeric? (y/n): \").strip().lower()\n",
    "\n",
    "        if choice == \"y\":\n",
    "            df[col_name] = pd.to_numeric(df[col_name], errors=\"coerce\")\n",
    "            print(f\"Column '{col_name}' converted to numeric.\")\n",
    "        else:\n",
    "            print(f\"Column '{col_name}' kept as {current_dtype}.\")\n",
    "    else:\n",
    "        print(f\"Column '{col_name}' is already numeric.\")\n",
    "        \n",
    "    # Confirm new type\n",
    "    print(f\"Final dtype of column '{col_name}': {df[col_name].dtype}\")\n",
    "    return df"
   ]
  },
  {
   "cell_type": "markdown",
   "id": "48ba2327",
   "metadata": {},
   "source": [
    "#### REMOVE DUPLICATES"
   ]
  },
  {
   "cell_type": "code",
   "execution_count": null,
   "id": "49db9231",
   "metadata": {},
   "outputs": [],
   "source": [
    "def remove_duplicates(df, col_name):\n",
    "    if col_name not in df.columns:\n",
    "        print(f\"Column '{col_name}' not found.\")\n",
    "        return df\n",
    "        \n",
    "    duplicates = df[df.duplicated(subset=[col_name], keep=False)]\n",
    "    if not duplicates.empty:\n",
    "        duplicates = duplicates.sort_values(by=col_name)\n",
    "\n",
    "        print(f\"\\nDuplicates found in column '{col_name}':\")\n",
    "        print(duplicates)  # Show the duplicates to the user\n",
    "        df = interactive_delete(df, duplicates, f\"duplicates in '{col_name}'\")\n",
    "    else:\n",
    "        print(f\"No duplicates found in column '{col_name}'.\")    \n",
    "    return df"
   ]
  }
 ],
 "metadata": {
  "kernelspec": {
   "display_name": "Python 3",
   "language": "python",
   "name": "python3"
  },
  "language_info": {
   "codemirror_mode": {
    "name": "ipython",
    "version": 3
   },
   "file_extension": ".py",
   "mimetype": "text/x-python",
   "name": "python",
   "nbconvert_exporter": "python",
   "pygments_lexer": "ipython3",
   "version": "3.10.12"
  }
 },
 "nbformat": 4,
 "nbformat_minor": 5
}
